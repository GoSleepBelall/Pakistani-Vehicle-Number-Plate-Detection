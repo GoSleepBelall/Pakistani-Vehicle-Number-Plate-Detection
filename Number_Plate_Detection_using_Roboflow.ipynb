{
  "nbformat": 4,
  "nbformat_minor": 0,
  "metadata": {
    "colab": {
      "provenance": []
    },
    "kernelspec": {
      "name": "python3",
      "display_name": "Python 3"
    },
    "language_info": {
      "name": "python"
    }
  },
  "cells": [
    {
      "cell_type": "markdown",
      "source": [
        "# Number Plate Detection using Roboflow Model"
      ],
      "metadata": {
        "id": "kAGN1-0DS25E"
      }
    },
    {
      "cell_type": "markdown",
      "source": [
        "## Download and Import Dependencies"
      ],
      "metadata": {
        "id": "cvhLqfM7TC6e"
      }
    },
    {
      "cell_type": "code",
      "source": [
        "!pip install roboflow"
      ],
      "metadata": {
        "id": "cn1lBVbVIWJf"
      },
      "execution_count": null,
      "outputs": []
    },
    {
      "cell_type": "code",
      "source": [
        "!pip install easyocr\n",
        "!pip install imutils"
      ],
      "metadata": {
        "id": "kwaW5GAIUNEz"
      },
      "execution_count": null,
      "outputs": []
    },
    {
      "cell_type": "code",
      "source": [
        "import numpy as np\n",
        "import cv2\n",
        "import matplotlib.pyplot as plt\n",
        "from PIL import Image\n",
        "import easyocr"
      ],
      "metadata": {
        "id": "AH9NcMFSL5PC"
      },
      "execution_count": null,
      "outputs": []
    },
    {
      "cell_type": "markdown",
      "source": [
        "## Import your Model\n",
        "Dont Share this code as it includes your private API key"
      ],
      "metadata": {
        "id": "8dz-5M4CS8FG"
      }
    },
    {
      "cell_type": "code",
      "execution_count": null,
      "metadata": {
        "id": "VsW26J40ITuW"
      },
      "outputs": [],
      "source": [
        "from roboflow import Roboflow\n",
        "rf = Roboflow(api_key=\"uQVioNskcr8qhdMy3S4P\")\n",
        "project = rf.workspace().project(\"number-plate-detection-qydiz\")\n",
        "model = project.version(1).model"
      ]
    },
    {
      "cell_type": "code",
      "source": [
        "print(type(model))"
      ],
      "metadata": {
        "colab": {
          "base_uri": "https://localhost:8080/"
        },
        "id": "Yf_qJgHxZuh5",
        "outputId": "0f4967eb-90a3-442f-87b1-fb508912c40e"
      },
      "execution_count": null,
      "outputs": [
        {
          "output_type": "stream",
          "name": "stdout",
          "text": [
            "<class 'roboflow.models.object_detection.ObjectDetectionModel'>\n"
          ]
        }
      ]
    },
    {
      "cell_type": "markdown",
      "source": [
        "## Read and Resize File"
      ],
      "metadata": {
        "id": "SS5MaI5uTbLC"
      }
    },
    {
      "cell_type": "code",
      "source": [
        "image_path = '/content/WhatsApp Image 2023-03-15 at 22.07.12.jpeg'\n",
        "img = cv2.imread(image_path)\n",
        "\n",
        "img = cv2.resize(img, (640, 640))\n",
        "\n",
        "# save the resized image\n",
        "cv2.imwrite('/content/resized_image.jpg', img)"
      ],
      "metadata": {
        "id": "ial4OVxQMUSk"
      },
      "execution_count": null,
      "outputs": []
    },
    {
      "cell_type": "markdown",
      "source": [
        "## Get Predictions"
      ],
      "metadata": {
        "id": "EOJNwH3vTd8u"
      }
    },
    {
      "cell_type": "code",
      "source": [
        "print(model.predict('/content/resized_image.jpg', confidence=40, overlap=30).save(\"/content/prediction.jpg\"))"
      ],
      "metadata": {
        "colab": {
          "base_uri": "https://localhost:8080/"
        },
        "id": "J9mqbcYyImp8",
        "outputId": "c3cf5803-19c3-49de-b59f-478a15ebe2c0"
      },
      "execution_count": null,
      "outputs": [
        {
          "output_type": "stream",
          "name": "stdout",
          "text": [
            "None\n"
          ]
        }
      ]
    },
    {
      "cell_type": "code",
      "source": [
        "json_data = model.predict(\"/content/resized_image.jpg\", confidence=40, overlap=30).json()"
      ],
      "metadata": {
        "id": "8MGsJP7iJS4p"
      },
      "execution_count": null,
      "outputs": []
    },
    {
      "cell_type": "markdown",
      "source": [
        "## Crop Image"
      ],
      "metadata": {
        "id": "lkQULYM3TgrT"
      }
    },
    {
      "cell_type": "code",
      "source": [
        "cropped_image = img[int(y-(height/2)): int(y + (height/2)), int(x-(width/2)): int(x + (width/2))]"
      ],
      "metadata": {
        "id": "mUvUmNnvU6He"
      },
      "execution_count": null,
      "outputs": []
    },
    {
      "cell_type": "code",
      "source": [
        "plt.imshow(cropped_image)\n",
        "plt.show()"
      ],
      "metadata": {
        "colab": {
          "base_uri": "https://localhost:8080/",
          "height": 267
        },
        "id": "pcacHYJ1VbPB",
        "outputId": "e994997f-5199-467d-aa2c-fbe47c1e35bf"
      },
      "execution_count": null,
      "outputs": [
        {
          "output_type": "display_data",
          "data": {
            "text/plain": [
              "<Figure size 432x288 with 1 Axes>"
            ],
            "image/png": "[encoded data removed]"
          },
          "metadata": {
            "needs_background": "light"
          }
        }
      ]
    },
    {
      "cell_type": "markdown",
      "source": [
        "## Perform OCR"
      ],
      "metadata": {
        "id": "_MqN-StbV_Vs"
      }
    },
    {
      "cell_type": "code",
      "source": [
        "reader = easyocr.Reader(['en'])"
      ],
      "metadata": {
        "colab": {
          "base_uri": "https://localhost:8080/"
        },
        "id": "12FkczSjUSYk",
        "outputId": "97cea068-3c37-4bab-9552-7cb8d037649e"
      },
      "execution_count": null,
      "outputs": [
        {
          "output_type": "stream",
          "name": "stderr",
          "text": [
            "WARNING:easyocr.easyocr:CUDA not available - defaulting to CPU. Note: This module is much faster with a GPU.\n"
          ]
        }
      ]
    },
    {
      "cell_type": "code",
      "source": [
        "result = reader.readtext(cropped_image)\n",
        "print(result)"
      ],
      "metadata": {
        "colab": {
          "base_uri": "https://localhost:8080/"
        },
        "id": "_CZ-gUZEMjpz",
        "outputId": "35c8ff4d-8741-4263-941e-285619a5110b"
      },
      "execution_count": null,
      "outputs": [
        {
          "output_type": "stream",
          "name": "stdout",
          "text": [
            "[([[3, 3], [37, 3], [37, 23], [3, 23]], 'MNA', 0.9991212875596811), ([[0, 22], [40, 22], [40, 46], [0, 46]], '3937', 0.9988073706626892)]\n"
          ]
        }
      ]
    }
  ]
}